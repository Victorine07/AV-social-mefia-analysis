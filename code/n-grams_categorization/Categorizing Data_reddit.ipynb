{
 "cells": [
  {
   "cell_type": "code",
   "execution_count": 8,
   "id": "981b4255",
   "metadata": {},
   "outputs": [],
   "source": [
    "import numpy as np\n",
    "import pandas as pd\n",
    "import string \n",
    "\n",
    "df = pd.read_csv('/Users/leonardojacuinde/Downloads/Combined US cleaned.csv')\n",
    "\n",
    "#RemoveNums\n",
    "# df['comment_body'] = df['comment_body'].str.replace('\\d+', '')\n",
    "# df = df.replace(r'\\n',' ', regex=True)\n",
    "# df.comment_body = df.comment_body.replace(r'\\s+', ' ', regex=True)\n",
    "\n",
    "#RemoveEmptyCells\n",
    "#df.dropna(subset = ['comment_body'], inplace=True)\n",
    "#df.drop('comment_parent_id', axis=1, inplace=True)\n",
    "\n",
    "#RemoveLinks\n",
    "# def remove_words(in_list, char_list):\n",
    "#     new_list = []\n",
    "#     for line in in_list:\n",
    "#         new_words = ' '.join([word for word in line.split() if not any([phrase in word for phrase in char_list])])\n",
    "#         new_list.append(new_words)\n",
    "#     return new_list\n",
    "     \n",
    "# str_list = df['comment_body']\n",
    "# char_list = ['https', 'www']\n",
    "# df['comment_body'] = remove_words(str_list, char_list)\n",
    "\n",
    "# #RemovePuntAndLower\n",
    "# df['comment_body'] = df['comment_body'].str.lower()\n",
    "# df['comment_body'] = df['comment_body'].str.replace('[^\\w\\s]','')\n",
    "\n",
    "#Categorizing\n",
    "reddit_comment = []\n",
    "for index, row in df.iterrows():\n",
    "    if 'accident' in row['full text']:\n",
    "        reddit_comment.append(row['full text'])\n",
    "    if 'law enforcement report' in row['full text']:\n",
    "        reddit_comment.append(row['full text'])\n",
    "    if 'crashes' in row['full text']:\n",
    "        reddit_comment.append(row['full text'])\n",
    "    if 'deaths' in row['full text']:\n",
    "        reddit_comment.append(row['full text'])\n",
    "#     if 'sue' in row['full text']:\n",
    "#         reddit_comment.append(row['full text'])\n",
    "\n",
    "#SaveCSV\n",
    "df = pd.DataFrame(reddit_comment, columns=['policies'])\n",
    "df.to_csv(\"Accidents_USPolicy_Category_Reddit.csv\", index = True, encoding='utf-8-sig')\n",
    "\n",
    "\n"
   ]
  },
  {
   "cell_type": "code",
   "execution_count": null,
   "id": "304fac5c",
   "metadata": {},
   "outputs": [],
   "source": []
  }
 ],
 "metadata": {
  "kernelspec": {
   "display_name": "Python 3 (ipykernel)",
   "language": "python",
   "name": "python3"
  },
  "language_info": {
   "codemirror_mode": {
    "name": "ipython",
    "version": 3
   },
   "file_extension": ".py",
   "mimetype": "text/x-python",
   "name": "python",
   "nbconvert_exporter": "python",
   "pygments_lexer": "ipython3",
   "version": "3.10.5"
  }
 },
 "nbformat": 4,
 "nbformat_minor": 5
}
